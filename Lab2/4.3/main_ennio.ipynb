{
 "cells": [
  {
   "cell_type": "code",
   "execution_count": 29,
   "metadata": {},
   "outputs": [],
   "source": [
    "from main_ennio import *\n",
    "\n",
    "VOTES_PATH = \"../4.1/data/votes.dat\"\n",
    "PARTIES_PATH = \"../4.1/data/mpparty.dat\"\n",
    "GENDERS_PATH = \"../4.1/data/mpsex.dat\"\n",
    "DISTRICTS_PATH = \"../4.1/data/mpdistrict.dat\"\n",
    "NAMES_PATH = \"../4.1/data/mpnames.txt\"\n",
    "\n",
    "MAX_EPOCHS = 100\n",
    "\n",
    "parties_names = {-1: '', 0: 'np', 1: 'm', 2: 'fp', 3: 's', 4: 'v', 5: 'mp', 6: 'kd', 7: 'c'}\n",
    "gender_names = {-1: '', 0: 'm', 1: 'f'}"
   ]
  },
  {
   "cell_type": "code",
   "execution_count": 37,
   "metadata": {},
   "outputs": [],
   "source": [
    "def heatmap(grid):\n",
    "    grid = np.array(grid)\n",
    "\n",
    "    fig, ax = plt.subplots()\n",
    "    im = ax.imshow(grid, cmap='Greens')\n",
    "    \n",
    "    for i in range(grid.shape[0]):\n",
    "        for j in range(grid.shape[1]):\n",
    "            text = ax.text(j, i, grid[i, j],\n",
    "                        ha=\"center\", va=\"center\", color=\"w\")\n",
    "    ax.set_title(\"Distribution of districts\")\n",
    "    fig.tight_layout()\n",
    "    plt.show()"
   ]
  },
  {
   "cell_type": "code",
   "execution_count": null,
   "metadata": {},
   "outputs": [],
   "source": [
    "# load data\n",
    "# 0 = no-vote; 1 = yes-vote; 0.5 = missing vote\n",
    "# each row -is one mp; each col is one vote\n",
    "votes_mps = get_votes(VOTES_PATH, VOTES_SHAPE)\n",
    "# each elem of parties, genders, names is the party, gender, name of the correspondent mp\n",
    "\n",
    "# 0=no party, 1='m', 2='fp', 3='s', 4='v', 5='mp', 6='kd', 7='c'\n",
    "parties = get_parties(path=PARTIES_PATH)\n",
    "# Male 0, Female 1\n",
    "genders = get_genders(path=GENDERS_PATH)\n",
    "districts = get_districts(path=DISTRICTS_PATH)\n",
    "names = get_names(path=NAMES_PATH)\n",
    "\n",
    "w = init_weights((10, 10, 31))\n",
    "\n",
    "for epoch in range(MAX_EPOCHS):\n",
    "    neigh_size = 2 - 2/MAX_EPOCHS*epoch\n",
    "    print(f'EPOCH {epoch} neigh_distance {round(neigh_size)}')\n",
    "    for votes in votes_mps:\n",
    "        w, _ = update_weights(votes, w, neigh_size, LR, epoch)"
   ]
  },
  {
   "cell_type": "code",
   "execution_count": 38,
   "metadata": {},
   "outputs": [
    {
     "data": {
      "image/png": "[encoded data removed]",
      "text/plain": [
       "<Figure size 432x288 with 1 Axes>"
      ]
     },
     "metadata": {
      "needs_background": "light"
     },
     "output_type": "display_data"
    }
   ],
   "source": [
    "grid = [[[] for _ in range(w.shape[1])] for _ in range(w.shape[0])]\n",
    "for idx, votes in enumerate(votes_mps):\n",
    "    i, j = get_node(votes, w)\n",
    "    grid[i][j].append(int(districts[idx]))\n",
    "for i in range(w.shape[0]):\n",
    "    for j in range(w.shape[1]):\n",
    "        if len(grid[i][j]) > 0:\n",
    "            grid[i][j] = most_common(grid[i][j])\n",
    "        else:\n",
    "            grid[i][j] = -1\n",
    "heatmap(grid)"
   ]
  }
 ],
 "metadata": {
  "interpreter": {
   "hash": "1742debe3f505dd65e63aa52b74910c47a5ecb880ab3f0755ab428f0c81d3adb"
  },
  "kernelspec": {
   "display_name": "Python 3.8.1 ('.ann': venv)",
   "language": "python",
   "name": "python3"
  },
  "language_info": {
   "codemirror_mode": {
    "name": "ipython",
    "version": 3
   },
   "file_extension": ".py",
   "mimetype": "text/x-python",
   "name": "python",
   "nbconvert_exporter": "python",
   "pygments_lexer": "ipython3",
   "version": "3.8.1"
  },
  "orig_nbformat": 4
 },
 "nbformat": 4,
 "nbformat_minor": 2
}
